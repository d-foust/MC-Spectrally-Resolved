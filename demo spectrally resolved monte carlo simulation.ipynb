{
 "cells": [
  {
   "cell_type": "markdown",
   "metadata": {},
   "source": [
    "# 0. Load packages"
   ]
  },
  {
   "cell_type": "code",
   "execution_count": null,
   "metadata": {},
   "outputs": [],
   "source": [
    "import numpy as np\n",
    "from random import randrange\n",
    "from numpy.random import *\n",
    "import matplotlib.pyplot as plt\n",
    "import ipympl\n",
    "%matplotlib ipympl\n",
    "\n",
    "from scipy.ndimage import gaussian_filter\n",
    "from os.path import join\n",
    "import pandas as pd\n",
    "import seaborn as sns"
   ]
  },
  {
   "cell_type": "markdown",
   "metadata": {},
   "source": [
    "# 1. Define some parameters"
   ]
  },
  {
   "cell_type": "code",
   "execution_count": null,
   "metadata": {},
   "outputs": [],
   "source": [
    "# load detection spectra for mEGFP, mEYFP(Q69K), and mCherry2 determined experimentally\n",
    "data_spectra = pd.read_csv('emission spectra.csv') "
   ]
  },
  {
   "cell_type": "code",
   "execution_count": null,
   "metadata": {},
   "outputs": [],
   "source": [
    "# normalize detection spectra to get probability densities\n",
    "p_G = data_spectra['mEGFP'] / data_spectra['mEGFP'].sum()\n",
    "p_Y = data_spectra['mEYFP'] / data_spectra['mEYFP'].sum()\n",
    "p_R = data_spectra['mCherry2'] / data_spectra['mCherry2'].sum()"
   ]
  },
  {
   "cell_type": "code",
   "execution_count": null,
   "metadata": {},
   "outputs": [],
   "source": [
    "# radius determines size of detection area\n",
    "radius = 4\n",
    "detection_area = (np.pi * radius**2) * 2"
   ]
  },
  {
   "cell_type": "code",
   "execution_count": null,
   "metadata": {},
   "outputs": [],
   "source": [
    "image_size = 276 # size of image (x,y) in pixels\n",
    "num_frames = 1 # frames to be simulated\n",
    "num_density = 5 # average number of particles per detection area\n",
    "brightness = 0.5 # photons per molecules per pixel\n",
    "total_area = image_size**2 \n",
    "num_detection_areas = total_area / detection_area\n",
    "num_particles = int(np.round(num_density * num_detection_areas))"
   ]
  },
  {
   "cell_type": "markdown",
   "metadata": {},
   "source": [
    "# 2. Simulate positions of particles"
   ]
  },
  {
   "cell_type": "code",
   "execution_count": null,
   "metadata": {},
   "outputs": [],
   "source": [
    "image_particles = np.zeros([num_frames, image_size, image_size])"
   ]
  },
  {
   "cell_type": "code",
   "execution_count": null,
   "metadata": {},
   "outputs": [],
   "source": [
    "for frame in range(num_frames):\n",
    "        locs = randint(low=0, high=image_size-1, size=(num_particles,2)) # particles locations\n",
    "        image_particles[frame] = np.histogram2d(locs[:,0], locs[:,1], \n",
    "                                                bins=[range(image_size+1), \n",
    "                                                      range(image_size+1)])[0] # generate particle map"
   ]
  },
  {
   "cell_type": "code",
   "execution_count": null,
   "metadata": {},
   "outputs": [],
   "source": [
    "image_particles.shape"
   ]
  },
  {
   "cell_type": "code",
   "execution_count": null,
   "metadata": {},
   "outputs": [],
   "source": [
    "plt.figure()\n",
    "plt.imshow(image_particles[0], interpolation='none', cmap='binary_r')\n",
    "plt.tight_layout()\n",
    "plt.axis('off')\n",
    "plt.colorbar();\n",
    "# save_fld = r'F:\\Demo figures\\simulating spectrally resolved images'\n",
    "# plt.savefig(join(save_fld, 'image_particles.png'),\n",
    "#            transparent=True, dpi=600, bbox_inches='tight');"
   ]
  },
  {
   "cell_type": "markdown",
   "metadata": {},
   "source": [
    "# 3. Convolution with model PSF (i.e. Gaussian blur)"
   ]
  },
  {
   "cell_type": "code",
   "execution_count": null,
   "metadata": {},
   "outputs": [],
   "source": [
    "image_gaussian = gaussian_filter(image_particles, sigma=(0,radius,radius))"
   ]
  },
  {
   "cell_type": "code",
   "execution_count": null,
   "metadata": {},
   "outputs": [],
   "source": [
    "plt.figure()\n",
    "plt.imshow(image_gaussian[0], interpolation='none', cmap='binary_r')\n",
    "plt.tight_layout()\n",
    "plt.axis('off')\n",
    "plt.colorbar();\n",
    "# save_fld = r'F:\\Demo figures\\simulating spectrally resolved images'\n",
    "# plt.savefig(join(save_fld, 'image_gaussian.png'),\n",
    "#            transparent=True, dpi=600, bbox_inches='tight');"
   ]
  },
  {
   "cell_type": "markdown",
   "metadata": {},
   "source": [
    "# 4. Scale for molecular brightness"
   ]
  },
  {
   "cell_type": "code",
   "execution_count": null,
   "metadata": {},
   "outputs": [],
   "source": [
    "image_scale = np.zeros([51,51])\n",
    "image_scale[25,25] = 1\n",
    "image_scale = gaussian_filter(image_scale, sigma=4)\n",
    "scale_factor = image_scale.max()\n",
    "\n",
    "image_brightness = (image_gaussian / scale_factor) * brightness"
   ]
  },
  {
   "cell_type": "code",
   "execution_count": null,
   "metadata": {},
   "outputs": [],
   "source": [
    "plt.figure()\n",
    "plt.imshow(image_brightness[0], interpolation='none', cmap='binary_r')\n",
    "plt.tight_layout()\n",
    "plt.axis('off')\n",
    "plt.colorbar();\n",
    "# save_fld = r'F:\\Demo figures\\simulating spectrally resolved images'\n",
    "# plt.savefig(join(save_fld, 'image_brightness.png'),\n",
    "#            transparent=True, dpi=600, bbox_inches='tight');"
   ]
  },
  {
   "cell_type": "markdown",
   "metadata": {},
   "source": [
    "# 5. Poisson filter to capture stochastic nature of photon emission/detection"
   ]
  },
  {
   "cell_type": "code",
   "execution_count": null,
   "metadata": {},
   "outputs": [],
   "source": [
    "image_poisson = poisson(lam=image_brightness)"
   ]
  },
  {
   "cell_type": "code",
   "execution_count": null,
   "metadata": {},
   "outputs": [],
   "source": [
    "plt.figure()\n",
    "plt.imshow(image_poisson[0], interpolation='none', cmap='binary_r')\n",
    "plt.tight_layout()\n",
    "plt.axis('off')\n",
    "plt.colorbar();\n",
    "# save_fld = r'F:\\Demo figures\\simulating spectrally resolved images'\n",
    "# plt.savefig(join(save_fld, 'image_poisson.png'),\n",
    "#            transparent=True, dpi=600, bbox_inches='tight');"
   ]
  },
  {
   "cell_type": "markdown",
   "metadata": {},
   "source": [
    "# 6. Split into individual channels"
   ]
  },
  {
   "cell_type": "code",
   "execution_count": null,
   "metadata": {},
   "outputs": [],
   "source": [
    "p_G = data_spectra['mEGFP'] / data_spectra['mEGFP'].sum()\n",
    "pvals = p_G"
   ]
  },
  {
   "cell_type": "code",
   "execution_count": null,
   "metadata": {},
   "outputs": [],
   "source": [
    "image_colorized = np.zeros([image_poisson.shape[0],\n",
    "                                len(pvals), \n",
    "                                image_poisson.shape[1], \n",
    "                                image_poisson.shape[2]])\n",
    "\n",
    "for (t,x,y), val in np.ndenumerate(image_poisson):\n",
    "        image_colorized[t,:,x,y] = multinomial(val, pvals=pvals)"
   ]
  },
  {
   "cell_type": "code",
   "execution_count": null,
   "metadata": {},
   "outputs": [],
   "source": [
    "image_colorized.shape"
   ]
  },
  {
   "cell_type": "code",
   "execution_count": null,
   "metadata": {},
   "outputs": [],
   "source": [
    "clim = (image_colorized[0].min(), np.percentile(image_colorized[0], 99))\n",
    "\n",
    "fig, axs = plt.subplots(5,5, figsize=(9,9))\n",
    "\n",
    "for i, ax in enumerate(axs.ravel()[:len(pvals)]):\n",
    "    ax.imshow(image_colorized[0,i], interpolation='none', cmap='binary_r', clim=clim)\n",
    "    ax.set_axis_off()\n",
    "    ax.title.set_text(str(data_spectra['Channel'][i])+' nm')\n",
    "plt.tight_layout(pad=0)\n",
    "axs[4,3].set_axis_off(); axs[4,4].set_axis_off()\n",
    "# save_fld = r'F:\\Demo figures\\simulating spectrally resolved images'\n",
    "# plt.savefig(join(save_fld, 'image_colorized.png'),\n",
    "#            transparent=True, dpi=600, bbox_inches='tight');"
   ]
  },
  {
   "cell_type": "markdown",
   "metadata": {},
   "source": [
    "## Compare spectra"
   ]
  },
  {
   "cell_type": "code",
   "execution_count": null,
   "metadata": {},
   "outputs": [],
   "source": [
    "p_simulated = image_colorized[0].sum(axis=(1,2))\n",
    "p_simulated /= p_simulated.sum() # normalization"
   ]
  },
  {
   "cell_type": "code",
   "execution_count": null,
   "metadata": {},
   "outputs": [],
   "source": [
    "plt.figure()\n",
    "plt.plot(pvals, 'r', label='Actual')\n",
    "plt.plot(p_simulated, 'kx', label='Simulated')\n",
    "plt.xticks(range(0,23,3), data_spectra['Channel'][0::3], fontsize=12)\n",
    "plt.yticks(fontsize=12)\n",
    "plt.ylabel('Intensity (AU)', fontsize=14)\n",
    "plt.xlabel('Detection Channel (nm)', fontsize=14)\n",
    "sns.despine()\n",
    "plt.legend(fontsize=12)\n",
    "plt.tight_layout();\n",
    "# save_fld = r'F:\\Demo figures\\simulating spectrally resolved images'\n",
    "# plt.savefig(join(save_fld, 'spectracomparison.png'),\n",
    "#            transparent=True, dpi=600, bbox_inches='tight');"
   ]
  },
  {
   "cell_type": "markdown",
   "metadata": {},
   "source": [
    "# Functions"
   ]
  },
  {
   "cell_type": "code",
   "execution_count": null,
   "metadata": {},
   "outputs": [],
   "source": [
    "def sim_image(num_density=10, size=100, radius=4, brightness=0.1, \n",
    "              num_frames=1, pvals=[1]):\n",
    "    \"\"\"\n",
    "    \n",
    "    \"\"\"\n",
    "    detection_area = (np.pi * radius**2) * 2\n",
    "    total_area = size**2\n",
    "    num_detection_areas = total_area / detection_area\n",
    "    num_particles = int(np.round(num_density * num_detection_areas))\n",
    "    \n",
    "    image_particles = np.zeros([num_frames, size, size])\n",
    "    \n",
    "    for frame in range(num_frames):\n",
    "        locs = randint(low=0, high=size-1, size=(num_particles,2)) # particles locations\n",
    "        image_particles[frame] = np.histogram2d(locs[:,0], locs[:,1], \n",
    "                                                bins=[range(size+1), range(size+1)])[0] # generate particle map\n",
    "        \n",
    "    image_gaussian = gaussian_filter(image_particles, sigma=(0,radius,radius))\n",
    "    \n",
    "    image_scale = np.zeros([51,51])\n",
    "    image_scale[25,25] = 1\n",
    "    image_scale = gaussian_filter(image_scale, sigma=4)\n",
    "    scale_factor = image_scale.max()\n",
    "\n",
    "    image_gaussian = (image_gaussian / scale_factor) * brightness\n",
    "    \n",
    "    image_poisson = poisson(lam=image_gaussian)\n",
    "    \n",
    "    image_simulated = multinomial_colorization(image_poisson, pvals=pvals)\n",
    "    \n",
    "    return image_simulated\n",
    "\n",
    "def multinomial_colorization(image, pvals):\n",
    "    \n",
    "    image_colorized = np.zeros([image.shape[0],\n",
    "                                len(pvals), \n",
    "                                image.shape[1], \n",
    "                                image.shape[2]])\n",
    "     \n",
    "    for (t,x,y), val in np.ndenumerate(image):\n",
    "        image_colorized[t,:,x,y] = multinomial(val, pvals=pvals)\n",
    "    \n",
    "    return image_colorized"
   ]
  }
 ],
 "metadata": {
  "kernelspec": {
   "display_name": "Python 3",
   "language": "python",
   "name": "python3"
  },
  "language_info": {
   "codemirror_mode": {
    "name": "ipython",
    "version": 3
   },
   "file_extension": ".py",
   "mimetype": "text/x-python",
   "name": "python",
   "nbconvert_exporter": "python",
   "pygments_lexer": "ipython3",
   "version": "3.7.6"
  }
 },
 "nbformat": 4,
 "nbformat_minor": 5
}
